{
 "cells": [
  {
   "cell_type": "code",
   "execution_count": 3,
   "id": "5ec0c2fd-b34d-4884-ba73-02eb88c844cb",
   "metadata": {},
   "outputs": [
    {
     "name": "stdout",
     "output_type": "stream",
     "text": [
      "True\n"
     ]
    }
   ],
   "source": [
    "from collections import deque\n",
    "\n",
    "def Checkbipartite(graph):\n",
    "    lifo = {}\n",
    "    \n",
    "    for node in graph:\n",
    "        if node not in color:\n",
    "            queue = deque([node])\n",
    "            color[node] = 0            \n",
    "            while queue:\n",
    "                current = queue.popleft()\n",
    "                for neighbor in graph[current]:\n",
    "                    if neighbor not in color:\n",
    "                        color[neighbor] = 1 - color[current]\n",
    "                        queue.append(neighbor)\n",
    "                    elif color[neighbor] == color[current]:\n",
    "                        return False\n",
    "    return True\n",
    "\n",
    "graph1 = {\n",
    "    0: [1, 3],\n",
    "    1: [0, 2],\n",
    "    2: [1, 3],\n",
    "    3: [0, 2]\n",
    "}\n",
    "print(Checkbipartite(graph1))"
   ]
  },
  {
   "cell_type": "code",
   "execution_count": null,
   "id": "f42e1ca8-4636-494d-b33b-e0640fe0d5db",
   "metadata": {},
   "outputs": [],
   "source": []
  }
 ],
 "metadata": {
  "kernelspec": {
   "display_name": "Python [conda env:base] *",
   "language": "python",
   "name": "conda-base-py"
  },
  "language_info": {
   "codemirror_mode": {
    "name": "ipython",
    "version": 3
   },
   "file_extension": ".py",
   "mimetype": "text/x-python",
   "name": "python",
   "nbconvert_exporter": "python",
   "pygments_lexer": "ipython3",
   "version": "3.12.7"
  }
 },
 "nbformat": 4,
 "nbformat_minor": 5
}
