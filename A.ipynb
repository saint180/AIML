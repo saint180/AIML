{
 "cells": [
  {
   "cell_type": "code",
   "execution_count": null,
   "id": "b1a8fdd7-0a69-4316-a258-ceb3a3718d6b",
   "metadata": {},
   "outputs": [],
   "source": [
    "import heapq\n",
    "import math\n",
    "\n",
    "graph = {\n",
    "    'A': {'B': 1.5, 'C': 2},\n",
    "    'B': {'A': 1.5, 'D': 2.5},\n",
    "    'C': {'A': 2, 'D': 1},\n",
    "    'D': {'B': 2.5, 'C': 1, 'E': 3},\n",
    "    'E': {'D': 3}\n",
    "}\n",
    "\n",
    "coords = {\n",
    "    'A': (0, 0),\n",
    "    'B': (1, 1),\n",
    "    'C': (1, -1),\n",
    "    'D': (2, 0),\n",
    "    'E': (4, 0)\n",
    "}\n",
    "\n",
    "def heuristic(a, b):\n",
    "    x1, y1 = coords[a]\n",
    "    x2, y2 = coords[b]\n",
    "    return math.hypot(x2 - x1, y2 - y1)\n",
    "\n",
    "def a_star(graph, start, goal):\n",
    "    open_set = []\n",
    "    heapq.heappush(open_set, (0 + heuristic(start, goal), 0, start, [start]))\n",
    "\n",
    "    visited = set()\n",
    "\n",
    "    while open_set:\n",
    "        f, g, current, path = heapq.heappop(open_set)\n",
    "\n",
    "        if current == goal:\n",
    "            return path\n",
    "\n",
    "        if current in visited:\n",
    "            continue\n",
    "        visited.add(current)\n",
    "\n",
    "        for neighbor in graph[current]:\n",
    "            if neighbor in visited:\n",
    "                continue\n",
    "            new_g = g + graph[current][neighbor]\n",
    "            new_f = new_g + heuristic(neighbor, goal)\n",
    "            heapq.heappush(open_set, (new_f, new_g, neighbor, path + [neighbor]))\n",
    "\n",
    "    return None\n",
    "\n",
    "path = a_star(graph, 'A', 'E')\n",
    "print(\"Shortest path from A to E:\", path)\n"
   ]
  }
 ],
 "metadata": {
  "kernelspec": {
   "display_name": "Python [conda env:base] *",
   "language": "python",
   "name": "conda-base-py"
  },
  "language_info": {
   "codemirror_mode": {
    "name": "ipython",
    "version": 3
   },
   "file_extension": ".py",
   "mimetype": "text/x-python",
   "name": "python",
   "nbconvert_exporter": "python",
   "pygments_lexer": "ipython3",
   "version": "3.12.7"
  }
 },
 "nbformat": 4,
 "nbformat_minor": 5
}
