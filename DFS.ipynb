{
 "cells": [
  {
   "cell_type": "code",
   "execution_count": 1,
   "id": "59a3fc34-2ca7-4cb0-aa2d-724bb75e15fe",
   "metadata": {},
   "outputs": [
    {
     "name": "stdout",
     "output_type": "stream",
     "text": [
      "Cycle detected: True\n"
     ]
    }
   ],
   "source": [
    "graph = {\n",
    "    0: [1, 3],\n",
    "    1: [0, 2],\n",
    "    2: [1, 3],\n",
    "    3: [2, 0]\n",
    "}\n",
    "\n",
    "graph1 = {\n",
    "    0: [1],\n",
    "    1: [2],\n",
    "    2: [3],\n",
    "    3: []\n",
    "}\n",
    "\n",
    "graph2 = {\n",
    "    0: [1,2,3],\n",
    "    1: [0,2,3],\n",
    "    2: [1,3,0],\n",
    "    3: [2,0,1]\n",
    "}\n",
    "\n",
    "\n",
    "def has_cycle(graph):\n",
    "    visited = set()\n",
    "\n",
    "    def dfs(node, parent):\n",
    "        visited.add(node)\n",
    "        for neighbor in graph[node]:\n",
    "            if neighbor not in visited:\n",
    "                if dfs(neighbor, node):\n",
    "                    return True\n",
    "            elif neighbor != parent:\n",
    "                return True\n",
    "        return False\n",
    "\n",
    "    for node in graph:\n",
    "        if node not in visited:\n",
    "            if dfs(node, None):\n",
    "                return True\n",
    "    return False\n",
    "\n",
    "print(\"Cycle detected:\", has_cycle(graph2))"
   ]
  }
 ],
 "metadata": {
  "kernelspec": {
   "display_name": "Python [conda env:base] *",
   "language": "python",
   "name": "conda-base-py"
  },
  "language_info": {
   "codemirror_mode": {
    "name": "ipython",
    "version": 3
   },
   "file_extension": ".py",
   "mimetype": "text/x-python",
   "name": "python",
   "nbconvert_exporter": "python",
   "pygments_lexer": "ipython3",
   "version": "3.12.7"
  }
 },
 "nbformat": 4,
 "nbformat_minor": 5
}
