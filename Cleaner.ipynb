{
 "cells": [
  {
   "cell_type": "code",
   "execution_count": 41,
   "id": "56b4d19f-ab8d-4560-8d7b-4b9451862cc3",
   "metadata": {},
   "outputs": [],
   "source": [
    "def clean(floor): \n",
    "    i, j, row, col = 0, 0, len(floor), len(floor[0])\n",
    "    for i in range(row):\n",
    "        if(i%2 == 0):\n",
    "            for j in range(col):\n",
    "                if(floor[i][j] == 1):\n",
    "                    print_F(floor, i, j)\n",
    "                    floor[i][j] = 0\n",
    "                print_F(floor, i, j)\n",
    "        else:\n",
    "            for j in range(col-1, -1, -1):\n",
    "                if(floor[i][j] == 1):\n",
    "                    print_F(floor, i, j)\n",
    "                    floor[i][j] = 0\n",
    "                print_F(floor, i, j)\n",
    "\n",
    "def print_F(floor, row, col):\n",
    "    print(\"The Floor matrix is as below:\")\n",
    "    for r in range(len(floor)):\n",
    "        for c in range(len(floor[r])):\n",
    "            if r == row and c == col:\n",
    "                print(f\" >{floor[r][c]}< \", end = '')\n",
    "            else:\n",
    "                print(f\"  {floor[r][c]}  \", end = '')\n",
    "        print(end = '\\n')\n",
    "    print(end = '\\n')\n",
    "\n",
    "\n",
    "def main():\n",
    "    floor = []\n",
    "    m = int(input(\"Enter the No. of Rows: \"))\n",
    "    n = int(input(\"Enter the No. of Columns: \"))\n",
    "    print(\"Enter clean status for each cell (1 - dirty, 0 - clean)\")\n",
    "    for i in range(m):\n",
    "        f = list(map(int, input().split(\" \")))\n",
    "        floor.append(f)\n",
    "    print()\n",
    "    clean(floor)"
   ]
  },
  {
   "cell_type": "code",
   "execution_count": 115,
   "id": "fcefff47-31b5-4912-b2dc-018da098eb04",
   "metadata": {},
   "outputs": [],
   "source": [
    "def express(floor,m,n):\n",
    "    for i in range(m):\n",
    "        col = range(n) if i%2 == 0 else range(n-1,-1,-1)\n",
    "        for j in col:\n",
    "            if floor[i][j] == 1:\n",
    "                floor[i][j] = 0\n",
    "        print()\n",
    "\n",
    "\n",
    "def visual(floor,row,col):\n",
    "    print(\"The Floor matrix is as below:\")\n",
    "    for r in range(len(floor)):\n",
    "        for c in range(len(floor[r])):\n",
    "            if r == row and c == col:\n",
    "                print(f\" >{floor[r][c]}< \", end = '')\n",
    "            else:\n",
    "                print(f\"  {floor[r][c]}  \", end = '')\n",
    "        print(end = '\\n')\n",
    "    print(end = '\\n')\n",
    "    \n",
    "def main():\n",
    "    floor = []\n",
    "    m = int(input(\"Enter row size: \"))\n",
    "    n = int(input(\"Enter columns size: \"))\n",
    "    print(\"Enter clean status for each cell (1 - dirty, 0 - clean)\")\n",
    "    for i in range(m):\n",
    "        row = []\n",
    "        for j in range(n):\n",
    "            val = int(input(f\"Enter value of {i,j}\"))\n",
    "            row.append(val)\n",
    "        floor.append(row)\n",
    "\n",
    "    print(\"Before Cleaning\")\n",
    "    \n",
    "    for i in range(m):\n",
    "        for j in range(n):\n",
    "            print(f\"{floor[i][j]}\",end=\" \")\n",
    "\n",
    "        print()\n",
    "\n",
    "    print(\"Press 1 for faster cleaning\")\n",
    "    \n",
    "    print(\"Press 2 for visual cleaning\")\n",
    "\n",
    "    test = int(input(\"Enter a number\"))\n",
    "\n",
    "    if(test==1):\n",
    "        express(floor,m,n)\n",
    "    else:\n",
    "        visual(floor,m,n)\n",
    "    \n",
    "    print(\"After Cleaning\")\n",
    "\n",
    "    for i in range(m):\n",
    "        for j in range(n):\n",
    "            print(f\"{floor[i][j]}\",end=\" \")\n",
    "\n",
    "        print()\n",
    "                "
   ]
  },
  {
   "cell_type": "code",
   "execution_count": 117,
   "id": "b8766988-7d58-4080-9665-4bd0066da9cd",
   "metadata": {},
   "outputs": [
    {
     "name": "stdin",
     "output_type": "stream",
     "text": [
      "Enter row size:  3\n",
      "Enter columns size:  3\n"
     ]
    },
    {
     "name": "stdout",
     "output_type": "stream",
     "text": [
      "Enter clean status for each cell (1 - dirty, 0 - clean)\n"
     ]
    },
    {
     "name": "stdin",
     "output_type": "stream",
     "text": [
      "Enter value of (0, 0) 1\n",
      "Enter value of (0, 1) 0\n",
      "Enter value of (0, 2) 1\n",
      "Enter value of (1, 0) 3\n",
      "Enter value of (1, 1) 2\n",
      "Enter value of (1, 2) 1\n",
      "Enter value of (2, 0) 1\n",
      "Enter value of (2, 1) 0\n",
      "Enter value of (2, 2) 0\n"
     ]
    },
    {
     "name": "stdout",
     "output_type": "stream",
     "text": [
      "Before Cleaning\n",
      "1 0 1 \n",
      "3 2 1 \n",
      "1 0 0 \n",
      "Press 1 for faster cleaning\n",
      "Press 2 for visual cleaning\n"
     ]
    },
    {
     "name": "stdin",
     "output_type": "stream",
     "text": [
      "Enter a number 2\n"
     ]
    },
    {
     "name": "stdout",
     "output_type": "stream",
     "text": [
      "The Floor matrix is as below:\n",
      "  1    0    1  \n",
      "  3    2    1  \n",
      "  1    0    0  \n",
      "\n",
      "After Cleaning\n",
      "1 0 1 \n",
      "3 2 1 \n",
      "1 0 0 \n"
     ]
    }
   ],
   "source": [
    "main()"
   ]
  },
  {
   "cell_type": "code",
   "execution_count": 135,
   "id": "8f2c2f9b-b445-4a50-ac02-920902da025b",
   "metadata": {},
   "outputs": [],
   "source": [
    "def main():\n",
    "    floor = []\n",
    "    m = int(input(\"Enter row size: \"))\n",
    "    n = int(input(\"Enter columns size: \"))\n",
    "    print(\"Enter clean status for each cell (1 - dirty, 0 - clean)\")\n",
    "    for i in range(m):\n",
    "        row = []\n",
    "        for j in range(n):\n",
    "            val = int(input(f\"Enter value of {i,j}\"))\n",
    "            row.append(val)\n",
    "        floor.append(row)\n",
    "\n",
    "    print(\"Before Cleaning\")\n",
    "    \n",
    "    for i in range(m):\n",
    "        for j in range(n):\n",
    "            print(f\"{floor[i][j]}\",end=\" \")\n",
    "\n",
    "        print()\n",
    "\n",
    "    floor = json.loads(json.dumps(floor).replace(\"1\",\"0\"))  \n",
    "\n",
    "    print(\"After Cleaning\")\n",
    "\n",
    "    for i in range(m):\n",
    "        for j in range(n):\n",
    "            print(f\"{floor[i][j]}\",end=\" \")\n",
    "\n",
    "        print()"
   ]
  },
  {
   "cell_type": "code",
   "execution_count": 137,
   "id": "a0b093ec-d85f-4739-a730-d4a352105063",
   "metadata": {},
   "outputs": [
    {
     "name": "stdin",
     "output_type": "stream",
     "text": [
      "Enter row size:  3\n",
      "Enter columns size:  3\n"
     ]
    },
    {
     "name": "stdout",
     "output_type": "stream",
     "text": [
      "Enter clean status for each cell (1 - dirty, 0 - clean)\n"
     ]
    },
    {
     "name": "stdin",
     "output_type": "stream",
     "text": [
      "Enter value of (0, 0) 1\n",
      "Enter value of (0, 1) 1\n",
      "Enter value of (0, 2) 1\n",
      "Enter value of (1, 0) 1\n",
      "Enter value of (1, 1) 1\n",
      "Enter value of (1, 2) 1\n",
      "Enter value of (2, 0) 1\n",
      "Enter value of (2, 1) 1\n",
      "Enter value of (2, 2) 1\n"
     ]
    },
    {
     "name": "stdout",
     "output_type": "stream",
     "text": [
      "Before Cleaning\n",
      "1 1 1 \n",
      "1 1 1 \n",
      "1 1 1 \n",
      "After Cleaning\n",
      "0 0 0 \n",
      "0 0 0 \n",
      "0 0 0 \n"
     ]
    }
   ],
   "source": [
    "main()"
   ]
  },
  {
   "cell_type": "code",
   "execution_count": 131,
   "id": "83ccbc94-0052-4326-89e2-366ac4027db9",
   "metadata": {},
   "outputs": [],
   "source": [
    "import numpy as np\n",
    "\n",
    "def main():\n",
    "    m = int(input(\"Enter row size: \"))\n",
    "    n = int(input(\"Enter column size: \"))\n",
    "    print(\"Enter clean status for each cell (1 - dirty, 0 - clean)\")\n",
    "\n",
    "    data = []\n",
    "    for i in range(m):\n",
    "        row = list(map(int, input(f\"Enter row {i} (space-separated): \").split()))\n",
    "        data.append(row)\n",
    "\n",
    "    floor = np.array(data)\n",
    "\n",
    "    print(\"\\nBefore Cleaning:\")\n",
    "    print(floor)\n",
    "\n",
    "    floor[floor == 1] = 0\n",
    "\n",
    "    print(\"\\nAfter Cleaning:\")\n",
    "    print(floor)\n"
   ]
  },
  {
   "cell_type": "code",
   "execution_count": 133,
   "id": "580e3438-b321-4f29-bc22-c4ca22c33533",
   "metadata": {},
   "outputs": [
    {
     "name": "stdin",
     "output_type": "stream",
     "text": [
      "Enter row size:  3\n",
      "Enter column size:  3\n"
     ]
    },
    {
     "name": "stdout",
     "output_type": "stream",
     "text": [
      "Enter clean status for each cell (1 - dirty, 0 - clean)\n"
     ]
    },
    {
     "name": "stdin",
     "output_type": "stream",
     "text": [
      "Enter row 0 (space-separated):  0 1 1\n",
      "Enter row 1 (space-separated):  1 0 0\n",
      "Enter row 2 (space-separated):  1 1 1\n"
     ]
    },
    {
     "name": "stdout",
     "output_type": "stream",
     "text": [
      "\n",
      "Before Cleaning:\n",
      "[[0 1 1]\n",
      " [1 0 0]\n",
      " [1 1 1]]\n",
      "\n",
      "After Cleaning:\n",
      "[[0 0 0]\n",
      " [0 0 0]\n",
      " [0 0 0]]\n"
     ]
    }
   ],
   "source": [
    "main()"
   ]
  },
  {
   "cell_type": "code",
   "execution_count": null,
   "id": "547dc0b1-b39f-4497-9865-806add22648d",
   "metadata": {},
   "outputs": [],
   "source": []
  }
 ],
 "metadata": {
  "kernelspec": {
   "display_name": "Python [conda env:base] *",
   "language": "python",
   "name": "conda-base-py"
  },
  "language_info": {
   "codemirror_mode": {
    "name": "ipython",
    "version": 3
   },
   "file_extension": ".py",
   "mimetype": "text/x-python",
   "name": "python",
   "nbconvert_exporter": "python",
   "pygments_lexer": "ipython3",
   "version": "3.12.7"
  }
 },
 "nbformat": 4,
 "nbformat_minor": 5
}
